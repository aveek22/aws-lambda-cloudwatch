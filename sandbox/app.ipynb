{
 "cells": [
  {
   "cell_type": "code",
   "execution_count": 1,
   "metadata": {},
   "outputs": [],
   "source": [
    "import boto3"
   ]
  },
  {
   "cell_type": "code",
   "execution_count": 2,
   "metadata": {},
   "outputs": [],
   "source": [
    "client = boto3.client('events')"
   ]
  },
  {
   "cell_type": "code",
   "execution_count": 4,
   "metadata": {},
   "outputs": [],
   "source": [
    "rules = client.list_rules()"
   ]
  },
  {
   "cell_type": "code",
   "execution_count": 5,
   "metadata": {},
   "outputs": [
    {
     "name": "stdout",
     "output_type": "stream",
     "text": [
      "{'Rules': [{'Name': 'rule-test-lambda-every-minute', 'Arn': 'arn:aws:events:eu-west-1:890277245818:rule/rule-test-lambda-every-minute', 'State': 'DISABLED', 'ScheduleExpression': 'rate(1 minute)', 'EventBusName': 'default'}], 'ResponseMetadata': {'RequestId': '46b228d1-a56a-4983-9f98-7eae9de65fd4', 'HTTPStatusCode': 200, 'HTTPHeaders': {'x-amzn-requestid': '46b228d1-a56a-4983-9f98-7eae9de65fd4', 'content-type': 'application/x-amz-json-1.1', 'content-length': '215', 'date': 'Mon, 28 Feb 2022 20:56:54 GMT'}, 'RetryAttempts': 0}}\n"
     ]
    }
   ],
   "source": [
    "print(rules)"
   ]
  },
  {
   "cell_type": "code",
   "execution_count": 19,
   "metadata": {},
   "outputs": [
    {
     "data": {
      "text/plain": [
       "{'RuleArn': 'arn:aws:events:eu-west-1:890277245818:rule/rule-test-lambda-every-minute',\n",
       " 'ResponseMetadata': {'RequestId': '264513dc-b0d1-4c7d-9ea2-fc6b4ffa98c7',\n",
       "  'HTTPStatusCode': 200,\n",
       "  'HTTPHeaders': {'x-amzn-requestid': '264513dc-b0d1-4c7d-9ea2-fc6b4ffa98c7',\n",
       "   'content-type': 'application/x-amz-json-1.1',\n",
       "   'content-length': '86',\n",
       "   'date': 'Mon, 28 Feb 2022 21:44:24 GMT'},\n",
       "  'RetryAttempts': 0}}"
      ]
     },
     "execution_count": 19,
     "metadata": {},
     "output_type": "execute_result"
    }
   ],
   "source": [
    "client.put_rule(\n",
    "    Name = \"rule-test-lambda-every-minute\",\n",
    "    # ScheduleExpression = \"cron(0 30 22 28 JAN ? *)\",\n",
    "    ScheduleExpression = \"cron(46 21 28 2 ? 2022)\",\n",
    "    State = \"ENABLED\"\n",
    ")"
   ]
  },
  {
   "cell_type": "code",
   "execution_count": null,
   "metadata": {},
   "outputs": [],
   "source": []
  }
 ],
 "metadata": {
  "interpreter": {
   "hash": "ffa6714cc363eed5c5c4f43a2b357bc19111c2aa92b90320f9300a6fce5d50e8"
  },
  "kernelspec": {
   "display_name": "Python 3.9.10 ('.venv': venv)",
   "language": "python",
   "name": "python3"
  },
  "language_info": {
   "codemirror_mode": {
    "name": "ipython",
    "version": 3
   },
   "file_extension": ".py",
   "mimetype": "text/x-python",
   "name": "python",
   "nbconvert_exporter": "python",
   "pygments_lexer": "ipython3",
   "version": "3.9.10"
  },
  "orig_nbformat": 4
 },
 "nbformat": 4,
 "nbformat_minor": 2
}
